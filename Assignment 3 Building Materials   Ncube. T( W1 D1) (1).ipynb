{
 "cells": [
  {
   "cell_type": "code",
   "execution_count": null,
   "id": "de07437e",
   "metadata": {},
   "outputs": [],
   "source": [
    "L=float(input(\"Input length, x: \"))\n",
    "B=float(input(\"Input With, x: \"))\n",
    "area=L*B\n",
    "perimeter=2*(L+B)\n",
    "print(\"Building materials required to cover the entire floor of the room square metres is:\",area)\n",
    "print(\"Baseboard required for installation into the room metres is:\",perimeter)"
   ]
  },
  {
   "cell_type": "code",
   "execution_count": null,
   "id": "f3515b7e",
   "metadata": {},
   "outputs": [],
   "source": []
  }
 ],
 "metadata": {
  "kernelspec": {
   "display_name": "Python 3",
   "language": "python",
   "name": "python3"
  },
  "language_info": {
   "codemirror_mode": {
    "name": "ipython",
    "version": 3
   },
   "file_extension": ".py",
   "mimetype": "text/x-python",
   "name": "python",
   "nbconvert_exporter": "python",
   "pygments_lexer": "ipython3",
   "version": "3.8.8"
  }
 },
 "nbformat": 4,
 "nbformat_minor": 5
}
